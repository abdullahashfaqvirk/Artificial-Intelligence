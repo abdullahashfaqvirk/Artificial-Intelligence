{
 "cells": [
  {
   "cell_type": "markdown",
   "id": "2ef4e058",
   "metadata": {},
   "source": [
    "# Fetching Data from an API\n",
    "\n",
    "- Get api key [TMDB](https://www.themoviedb.org/)\n",
    "- Get api url [Developer TMDB](https://developer.themoviedb.org/)\n",
    "- Free Public APIs for Developers [RAPID](https://rapidapi.com/collection/list-of-free-apis)"
   ]
  },
  {
   "cell_type": "code",
   "execution_count": 1,
   "id": "501e2893",
   "metadata": {},
   "outputs": [],
   "source": [
    "import requests\n",
    "import pandas as pd"
   ]
  },
  {
   "cell_type": "code",
   "execution_count": 2,
   "id": "31acad01",
   "metadata": {},
   "outputs": [],
   "source": [
    "url = \"https://api.themoviedb.org/3/movie/top_rated?api_key=86dd8e2da9d8629ab9a70f8111ed29c4&language=en-US&page=1\"\n",
    "\n",
    "response = requests.get(url)"
   ]
  },
  {
   "cell_type": "code",
   "execution_count": 3,
   "id": "2523be31",
   "metadata": {},
   "outputs": [],
   "source": [
    "cols = ['id','title','overview','release_date','popularity','vote_average','vote_count']\n",
    "\n",
    "temp_df = pd.DataFrame(response.json()['results'])[cols]"
   ]
  },
  {
   "cell_type": "code",
   "execution_count": 4,
   "id": "1577cc52",
   "metadata": {},
   "outputs": [
    {
     "data": {
      "text/html": [
       "<div>\n",
       "<style scoped>\n",
       "    .dataframe tbody tr th:only-of-type {\n",
       "        vertical-align: middle;\n",
       "    }\n",
       "\n",
       "    .dataframe tbody tr th {\n",
       "        vertical-align: top;\n",
       "    }\n",
       "\n",
       "    .dataframe thead th {\n",
       "        text-align: right;\n",
       "    }\n",
       "</style>\n",
       "<table border=\"1\" class=\"dataframe\">\n",
       "  <thead>\n",
       "    <tr style=\"text-align: right;\">\n",
       "      <th></th>\n",
       "      <th>id</th>\n",
       "      <th>title</th>\n",
       "      <th>overview</th>\n",
       "      <th>release_date</th>\n",
       "      <th>popularity</th>\n",
       "      <th>vote_average</th>\n",
       "      <th>vote_count</th>\n",
       "    </tr>\n",
       "  </thead>\n",
       "  <tbody>\n",
       "    <tr>\n",
       "      <th>0</th>\n",
       "      <td>238</td>\n",
       "      <td>The Godfather</td>\n",
       "      <td>Spanning the years 1945 to 1955, a chronicle o...</td>\n",
       "      <td>1972-03-14</td>\n",
       "      <td>156.311</td>\n",
       "      <td>8.7</td>\n",
       "      <td>18321</td>\n",
       "    </tr>\n",
       "    <tr>\n",
       "      <th>1</th>\n",
       "      <td>278</td>\n",
       "      <td>The Shawshank Redemption</td>\n",
       "      <td>Framed in the 1940s for the double murder of h...</td>\n",
       "      <td>1994-09-23</td>\n",
       "      <td>100.706</td>\n",
       "      <td>8.7</td>\n",
       "      <td>24242</td>\n",
       "    </tr>\n",
       "    <tr>\n",
       "      <th>2</th>\n",
       "      <td>240</td>\n",
       "      <td>The Godfather Part II</td>\n",
       "      <td>In the continuing saga of the Corleone crime f...</td>\n",
       "      <td>1974-12-20</td>\n",
       "      <td>69.032</td>\n",
       "      <td>8.6</td>\n",
       "      <td>11057</td>\n",
       "    </tr>\n",
       "    <tr>\n",
       "      <th>3</th>\n",
       "      <td>19404</td>\n",
       "      <td>Dilwale Dulhania Le Jayenge</td>\n",
       "      <td>Raj is a rich, carefree, happy-go-lucky second...</td>\n",
       "      <td>1995-10-20</td>\n",
       "      <td>35.191</td>\n",
       "      <td>8.6</td>\n",
       "      <td>4193</td>\n",
       "    </tr>\n",
       "    <tr>\n",
       "      <th>4</th>\n",
       "      <td>424</td>\n",
       "      <td>Schindler's List</td>\n",
       "      <td>The true story of how businessman Oskar Schind...</td>\n",
       "      <td>1993-12-15</td>\n",
       "      <td>74.187</td>\n",
       "      <td>8.6</td>\n",
       "      <td>14331</td>\n",
       "    </tr>\n",
       "  </tbody>\n",
       "</table>\n",
       "</div>"
      ],
      "text/plain": [
       "      id                        title  \\\n",
       "0    238                The Godfather   \n",
       "1    278     The Shawshank Redemption   \n",
       "2    240        The Godfather Part II   \n",
       "3  19404  Dilwale Dulhania Le Jayenge   \n",
       "4    424             Schindler's List   \n",
       "\n",
       "                                            overview release_date  popularity  \\\n",
       "0  Spanning the years 1945 to 1955, a chronicle o...   1972-03-14     156.311   \n",
       "1  Framed in the 1940s for the double murder of h...   1994-09-23     100.706   \n",
       "2  In the continuing saga of the Corleone crime f...   1974-12-20      69.032   \n",
       "3  Raj is a rich, carefree, happy-go-lucky second...   1995-10-20      35.191   \n",
       "4  The true story of how businessman Oskar Schind...   1993-12-15      74.187   \n",
       "\n",
       "   vote_average  vote_count  \n",
       "0           8.7       18321  \n",
       "1           8.7       24242  \n",
       "2           8.6       11057  \n",
       "3           8.6        4193  \n",
       "4           8.6       14331  "
      ]
     },
     "execution_count": 4,
     "metadata": {},
     "output_type": "execute_result"
    }
   ],
   "source": [
    "temp_df.head()"
   ]
  },
  {
   "cell_type": "code",
   "execution_count": 5,
   "id": "12b63437",
   "metadata": {},
   "outputs": [
    {
     "data": {
      "text/plain": [
       "(567, 11330)"
      ]
     },
     "execution_count": 5,
     "metadata": {},
     "output_type": "execute_result"
    }
   ],
   "source": [
    "total_pages = response.json()['total_pages']\n",
    "\n",
    "total_result = response.json()['total_results']\n",
    "\n",
    "total_pages, total_result"
   ]
  },
  {
   "cell_type": "markdown",
   "id": "4fdda748",
   "metadata": {},
   "source": [
    "### Collecting Data from all Pages"
   ]
  },
  {
   "cell_type": "code",
   "execution_count": 6,
   "id": "5dd26cdb",
   "metadata": {},
   "outputs": [],
   "source": [
    "df = pd.DataFrame()"
   ]
  },
  {
   "cell_type": "code",
   "execution_count": 7,
   "id": "9fa26c21",
   "metadata": {},
   "outputs": [],
   "source": [
    "def get_response(page_no):\n",
    "    url = f\"https://api.themoviedb.org/3/movie/top_rated?api_key=86dd8e2da9d8629ab9a70f8111ed29c4&language=en-US&page={page_no}\"\n",
    "    return requests.get(url)"
   ]
  },
  {
   "cell_type": "code",
   "execution_count": 8,
   "id": "e7594746",
   "metadata": {},
   "outputs": [],
   "source": [
    "cols = ['id','title','overview','release_date','popularity','vote_average','vote_count']"
   ]
  },
  {
   "cell_type": "code",
   "execution_count": 9,
   "id": "23f8ea83",
   "metadata": {},
   "outputs": [],
   "source": [
    "for page in range(1, 501):\n",
    "    # limitiation: page must be less than or equal to 500\n",
    "    response = get_response(page)\n",
    "    temp_df = pd.DataFrame(response.json()['results'])[cols]\n",
    "    \n",
    "    # Concatenate the temp_df with the main DataFrame and reset the index\n",
    "    df = pd.concat([df, temp_df], ignore_index=True)"
   ]
  },
  {
   "cell_type": "code",
   "execution_count": 10,
   "id": "301bbb5c",
   "metadata": {},
   "outputs": [
    {
     "data": {
      "text/html": [
       "<div>\n",
       "<style scoped>\n",
       "    .dataframe tbody tr th:only-of-type {\n",
       "        vertical-align: middle;\n",
       "    }\n",
       "\n",
       "    .dataframe tbody tr th {\n",
       "        vertical-align: top;\n",
       "    }\n",
       "\n",
       "    .dataframe thead th {\n",
       "        text-align: right;\n",
       "    }\n",
       "</style>\n",
       "<table border=\"1\" class=\"dataframe\">\n",
       "  <thead>\n",
       "    <tr style=\"text-align: right;\">\n",
       "      <th></th>\n",
       "      <th>id</th>\n",
       "      <th>title</th>\n",
       "      <th>overview</th>\n",
       "      <th>release_date</th>\n",
       "      <th>popularity</th>\n",
       "      <th>vote_average</th>\n",
       "      <th>vote_count</th>\n",
       "    </tr>\n",
       "  </thead>\n",
       "  <tbody>\n",
       "    <tr>\n",
       "      <th>0</th>\n",
       "      <td>238</td>\n",
       "      <td>The Godfather</td>\n",
       "      <td>Spanning the years 1945 to 1955, a chronicle o...</td>\n",
       "      <td>1972-03-14</td>\n",
       "      <td>156.311</td>\n",
       "      <td>8.7</td>\n",
       "      <td>18321</td>\n",
       "    </tr>\n",
       "    <tr>\n",
       "      <th>1</th>\n",
       "      <td>278</td>\n",
       "      <td>The Shawshank Redemption</td>\n",
       "      <td>Framed in the 1940s for the double murder of h...</td>\n",
       "      <td>1994-09-23</td>\n",
       "      <td>100.706</td>\n",
       "      <td>8.7</td>\n",
       "      <td>24242</td>\n",
       "    </tr>\n",
       "    <tr>\n",
       "      <th>2</th>\n",
       "      <td>240</td>\n",
       "      <td>The Godfather Part II</td>\n",
       "      <td>In the continuing saga of the Corleone crime f...</td>\n",
       "      <td>1974-12-20</td>\n",
       "      <td>69.032</td>\n",
       "      <td>8.6</td>\n",
       "      <td>11057</td>\n",
       "    </tr>\n",
       "    <tr>\n",
       "      <th>3</th>\n",
       "      <td>19404</td>\n",
       "      <td>Dilwale Dulhania Le Jayenge</td>\n",
       "      <td>Raj is a rich, carefree, happy-go-lucky second...</td>\n",
       "      <td>1995-10-20</td>\n",
       "      <td>35.191</td>\n",
       "      <td>8.6</td>\n",
       "      <td>4193</td>\n",
       "    </tr>\n",
       "    <tr>\n",
       "      <th>4</th>\n",
       "      <td>424</td>\n",
       "      <td>Schindler's List</td>\n",
       "      <td>The true story of how businessman Oskar Schind...</td>\n",
       "      <td>1993-12-15</td>\n",
       "      <td>74.187</td>\n",
       "      <td>8.6</td>\n",
       "      <td>14331</td>\n",
       "    </tr>\n",
       "    <tr>\n",
       "      <th>...</th>\n",
       "      <td>...</td>\n",
       "      <td>...</td>\n",
       "      <td>...</td>\n",
       "      <td>...</td>\n",
       "      <td>...</td>\n",
       "      <td>...</td>\n",
       "      <td>...</td>\n",
       "    </tr>\n",
       "    <tr>\n",
       "      <th>9995</th>\n",
       "      <td>244516</td>\n",
       "      <td>Indovina chi viene a Natale?</td>\n",
       "      <td>A very extended family gathers for the Christm...</td>\n",
       "      <td>2013-12-19</td>\n",
       "      <td>4.923</td>\n",
       "      <td>5.6</td>\n",
       "      <td>338</td>\n",
       "    </tr>\n",
       "    <tr>\n",
       "      <th>9996</th>\n",
       "      <td>39451</td>\n",
       "      <td>Little Fockers</td>\n",
       "      <td>It has taken 10 years, two little Fockers with...</td>\n",
       "      <td>2010-12-21</td>\n",
       "      <td>25.027</td>\n",
       "      <td>5.6</td>\n",
       "      <td>2991</td>\n",
       "    </tr>\n",
       "    <tr>\n",
       "      <th>9997</th>\n",
       "      <td>8277</td>\n",
       "      <td>American Pie Presents: Beta House</td>\n",
       "      <td>Erik, Ryan, and Cooze start college and pledge...</td>\n",
       "      <td>2007-12-26</td>\n",
       "      <td>56.123</td>\n",
       "      <td>5.6</td>\n",
       "      <td>1728</td>\n",
       "    </tr>\n",
       "    <tr>\n",
       "      <th>9998</th>\n",
       "      <td>219318</td>\n",
       "      <td>The Volcano</td>\n",
       "      <td>The eruption of the Icelandic volcano Eyjafjal...</td>\n",
       "      <td>2013-10-02</td>\n",
       "      <td>7.006</td>\n",
       "      <td>5.6</td>\n",
       "      <td>602</td>\n",
       "    </tr>\n",
       "    <tr>\n",
       "      <th>9999</th>\n",
       "      <td>38358</td>\n",
       "      <td>The Last Exorcism</td>\n",
       "      <td>After years of performing “exorcisms” and taki...</td>\n",
       "      <td>2010-08-27</td>\n",
       "      <td>22.553</td>\n",
       "      <td>5.6</td>\n",
       "      <td>917</td>\n",
       "    </tr>\n",
       "  </tbody>\n",
       "</table>\n",
       "<p>10000 rows × 7 columns</p>\n",
       "</div>"
      ],
      "text/plain": [
       "          id                              title  \\\n",
       "0        238                      The Godfather   \n",
       "1        278           The Shawshank Redemption   \n",
       "2        240              The Godfather Part II   \n",
       "3      19404        Dilwale Dulhania Le Jayenge   \n",
       "4        424                   Schindler's List   \n",
       "...      ...                                ...   \n",
       "9995  244516       Indovina chi viene a Natale?   \n",
       "9996   39451                     Little Fockers   \n",
       "9997    8277  American Pie Presents: Beta House   \n",
       "9998  219318                        The Volcano   \n",
       "9999   38358                  The Last Exorcism   \n",
       "\n",
       "                                               overview release_date  \\\n",
       "0     Spanning the years 1945 to 1955, a chronicle o...   1972-03-14   \n",
       "1     Framed in the 1940s for the double murder of h...   1994-09-23   \n",
       "2     In the continuing saga of the Corleone crime f...   1974-12-20   \n",
       "3     Raj is a rich, carefree, happy-go-lucky second...   1995-10-20   \n",
       "4     The true story of how businessman Oskar Schind...   1993-12-15   \n",
       "...                                                 ...          ...   \n",
       "9995  A very extended family gathers for the Christm...   2013-12-19   \n",
       "9996  It has taken 10 years, two little Fockers with...   2010-12-21   \n",
       "9997  Erik, Ryan, and Cooze start college and pledge...   2007-12-26   \n",
       "9998  The eruption of the Icelandic volcano Eyjafjal...   2013-10-02   \n",
       "9999  After years of performing “exorcisms” and taki...   2010-08-27   \n",
       "\n",
       "      popularity  vote_average  vote_count  \n",
       "0        156.311           8.7       18321  \n",
       "1        100.706           8.7       24242  \n",
       "2         69.032           8.6       11057  \n",
       "3         35.191           8.6        4193  \n",
       "4         74.187           8.6       14331  \n",
       "...          ...           ...         ...  \n",
       "9995       4.923           5.6         338  \n",
       "9996      25.027           5.6        2991  \n",
       "9997      56.123           5.6        1728  \n",
       "9998       7.006           5.6         602  \n",
       "9999      22.553           5.6         917  \n",
       "\n",
       "[10000 rows x 7 columns]"
      ]
     },
     "execution_count": 10,
     "metadata": {},
     "output_type": "execute_result"
    }
   ],
   "source": [
    "df"
   ]
  },
  {
   "cell_type": "code",
   "execution_count": 11,
   "id": "e0e0775a",
   "metadata": {},
   "outputs": [
    {
     "data": {
      "text/plain": [
       "(10000, 7)"
      ]
     },
     "execution_count": 11,
     "metadata": {},
     "output_type": "execute_result"
    }
   ],
   "source": [
    "df.shape"
   ]
  },
  {
   "cell_type": "code",
   "execution_count": 12,
   "id": "33a51cd7",
   "metadata": {},
   "outputs": [],
   "source": [
    "df.to_csv('movies.csv')"
   ]
  }
 ],
 "metadata": {
  "kernelspec": {
   "display_name": "Python 3 (ipykernel)",
   "language": "python",
   "name": "python3"
  },
  "language_info": {
   "codemirror_mode": {
    "name": "ipython",
    "version": 3
   },
   "file_extension": ".py",
   "mimetype": "text/x-python",
   "name": "python",
   "nbconvert_exporter": "python",
   "pygments_lexer": "ipython3",
   "version": "3.11.1"
  }
 },
 "nbformat": 4,
 "nbformat_minor": 5
}
